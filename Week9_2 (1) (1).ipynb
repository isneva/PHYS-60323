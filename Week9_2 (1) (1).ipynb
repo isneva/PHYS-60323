{
 "cells": [
  {
   "cell_type": "markdown",
   "metadata": {},
   "source": [
    "# Random Numbers and Radio Activity\n",
    "\n",
    "## Decay of a Single Isotope Exaple\n",
    "\n",
    "The radioisotope $^{209}Tl$ (thalium 208) decays in stable $^{208}Pb$ (lead 208) with a half-life of 3.053 minutes.  Suppose we start with a sample of 100 thalium atoms.  Let us simulate the decay of these atoms over time. mimicking the randomness of the decay using random numbers \n",
    "\n",
    "\n",
    "We want to simulate the decay of 100 atoms.  On average we know that the number $N$ of atoms in our sample will fall off exponentially over time according to the standard equation of radioactive decay:\n",
    "\n",
    "$$ N(t)= N(0) 2^{-t/\\tau}$$\n",
    "\n",
    "where $\\tau$ is the half life.   Then the fraction of atoms remaining after time t is $N(t)/N(0) = 2^{-t/\\tau}$ and the fractionthat have decayed, which is equal to the probability $p(t)$ that any particular single atom has decayed, is one minus this number or\n",
    "\n",
    "$$p(t) = 1 - 2^{-t/\\tau}$$\n",
    "\n",
    "Thus this number represents the probability that a single atom decays in a time interval of length $l$.\n",
    "\n",
    "We will simulate the decay of our sample of 100 atoms by dividing the atoms into two sets, one of thallium and one of lead.  "
   ]
  },
  {
   "cell_type": "code",
   "execution_count": 2,
   "metadata": {},
   "outputs": [
    {
     "name": "stdout",
     "output_type": "stream",
     "text": [
      "6 94\n"
     ]
    },
    {
     "data": {
      "image/png": "[encoded data removed]",
      "text/plain": [
       "<Figure size 432x288 with 1 Axes>"
      ]
     },
     "metadata": {
      "needs_background": "light"
     },
     "output_type": "display_data"
    }
   ],
   "source": [
    "from random import random\n",
    "from numpy import arange\n",
    "from pylab import plot,xlabel,ylabel,show\n",
    "\n",
    "# Constants\n",
    "NTl = 100             # Initial Number of thallium atoms\n",
    "NPb = 0               # Number of lead atoms\n",
    "tau = 3.053*60        # Half life of thallium in seconds\n",
    "h = 1.0               # Size of time-step in seconds\n",
    "p = 1 - 2**(-h/tau)   # Probability of decay in one step\n",
    "tmax = 1000           # Total time\n",
    "\n",
    "# Lists of plot points\n",
    "tpoints = arange(0.0,tmax,h) # make time array\n",
    "Tlpoints = [] # empty array to strore # of Tl atoms at each time step\n",
    "Pbpoints = [] # empty array to strore # of Pb atoms at each time step\n",
    "\n",
    "# Main loop\n",
    "for t in tpoints:    # for time 0-1000 sec\n",
    "    Tlpoints.append(NTl) # append starting # of Tl atoms\n",
    "    Pbpoints.append(NPb) # append starting # of Pb atoms\n",
    "\n",
    "    # Calculate the number of atoms that decay\n",
    "    decay = 0\n",
    "    for i in range(NTl): # determine number of atoms that decay\n",
    "        if random() < p:\n",
    "            decay += 1\n",
    "    NTl -= decay # subtract number of decayed Parent atoms \n",
    "    NPb += decay # add number of decayed Daughter atoms \n",
    "\n",
    "print(NTl,NPb)\n",
    "# Make the graph\n",
    "plot(tpoints,Tlpoints, c='m') # plot Tl vs. time\n",
    "plot(tpoints,Pbpoints, c='b') # plot Pb vs. time\n",
    "xlabel(\"Time\")\n",
    "ylabel(\"Number of atoms\")\n",
    "show()\n"
   ]
  },
  {
   "cell_type": "markdown",
   "metadata": {},
   "source": [
    "If you up the number of atoms to 1,000 or 10,000 you'll see the mean exponential decay will become clearer, by at 100, you can see the stochatic nature of the individual decay times."
   ]
  },
  {
   "cell_type": "markdown",
   "metadata": {},
   "source": [
    "## Use this code as a basis of Problem 2 in HW \\#9"
   ]
  },
  {
   "cell_type": "markdown",
   "metadata": {},
   "source": [
    "NOTE: You will have additional decays, half-lives, and probabilities for the HW problem, be careful of the order of of what happens in each time step. "
   ]
  },
  {
   "cell_type": "code",
   "execution_count": 61,
   "metadata": {},
   "outputs": [
    {
     "name": "stdout",
     "output_type": "stream",
     "text": [
      "100 0 0\n"
     ]
    },
    {
     "ename": "ValueError",
     "evalue": "x and y must have same first dimension, but have shapes (1000,) and (1000000,)",
     "output_type": "error",
     "traceback": [
      "\u001b[1;31m---------------------------------------------------------------------------\u001b[0m",
      "\u001b[1;31mValueError\u001b[0m                                Traceback (most recent call last)",
      "\u001b[1;32m<ipython-input-61-7a3deb22d9e3>\u001b[0m in \u001b[0;36m<module>\u001b[1;34m\u001b[0m\n\u001b[0;32m     43\u001b[0m \u001b[0mprint\u001b[0m\u001b[1;33m(\u001b[0m\u001b[0mNTl\u001b[0m\u001b[1;33m,\u001b[0m\u001b[0mNPb\u001b[0m\u001b[1;33m,\u001b[0m\u001b[0mNBi_fin\u001b[0m\u001b[1;33m)\u001b[0m\u001b[1;33m\u001b[0m\u001b[1;33m\u001b[0m\u001b[0m\n\u001b[0;32m     44\u001b[0m \u001b[1;33m\u001b[0m\u001b[0m\n\u001b[1;32m---> 45\u001b[1;33m \u001b[0mplot\u001b[0m\u001b[1;33m(\u001b[0m\u001b[0mtpoints\u001b[0m\u001b[1;33m,\u001b[0m \u001b[0mTlpoints\u001b[0m\u001b[1;33m,\u001b[0m \u001b[0mc\u001b[0m\u001b[1;33m=\u001b[0m\u001b[1;34m'b'\u001b[0m\u001b[1;33m)\u001b[0m\u001b[1;33m\u001b[0m\u001b[1;33m\u001b[0m\u001b[0m\n\u001b[0m\u001b[0;32m     46\u001b[0m \u001b[0mplot\u001b[0m\u001b[1;33m(\u001b[0m\u001b[0mtpoints\u001b[0m\u001b[1;33m,\u001b[0m \u001b[0mPbpoints\u001b[0m\u001b[1;33m,\u001b[0m \u001b[0mc\u001b[0m\u001b[1;33m=\u001b[0m\u001b[1;34m'm'\u001b[0m\u001b[1;33m)\u001b[0m\u001b[1;33m\u001b[0m\u001b[1;33m\u001b[0m\u001b[0m\n\u001b[0;32m     47\u001b[0m \u001b[0mplot\u001b[0m\u001b[1;33m(\u001b[0m\u001b[0mtpoints\u001b[0m\u001b[1;33m,\u001b[0m \u001b[0mBifinalpoints\u001b[0m\u001b[1;33m,\u001b[0m \u001b[0mc\u001b[0m\u001b[1;33m=\u001b[0m\u001b[1;34m'y'\u001b[0m\u001b[1;33m)\u001b[0m\u001b[1;33m\u001b[0m\u001b[1;33m\u001b[0m\u001b[0m\n",
      "\u001b[1;32mC:\\Python\\lib\\site-packages\\matplotlib\\pyplot.py\u001b[0m in \u001b[0;36mplot\u001b[1;34m(scalex, scaley, data, *args, **kwargs)\u001b[0m\n\u001b[0;32m   2838\u001b[0m \u001b[1;33m@\u001b[0m\u001b[0m_copy_docstring_and_deprecators\u001b[0m\u001b[1;33m(\u001b[0m\u001b[0mAxes\u001b[0m\u001b[1;33m.\u001b[0m\u001b[0mplot\u001b[0m\u001b[1;33m)\u001b[0m\u001b[1;33m\u001b[0m\u001b[1;33m\u001b[0m\u001b[0m\n\u001b[0;32m   2839\u001b[0m \u001b[1;32mdef\u001b[0m \u001b[0mplot\u001b[0m\u001b[1;33m(\u001b[0m\u001b[1;33m*\u001b[0m\u001b[0margs\u001b[0m\u001b[1;33m,\u001b[0m \u001b[0mscalex\u001b[0m\u001b[1;33m=\u001b[0m\u001b[1;32mTrue\u001b[0m\u001b[1;33m,\u001b[0m \u001b[0mscaley\u001b[0m\u001b[1;33m=\u001b[0m\u001b[1;32mTrue\u001b[0m\u001b[1;33m,\u001b[0m \u001b[0mdata\u001b[0m\u001b[1;33m=\u001b[0m\u001b[1;32mNone\u001b[0m\u001b[1;33m,\u001b[0m \u001b[1;33m**\u001b[0m\u001b[0mkwargs\u001b[0m\u001b[1;33m)\u001b[0m\u001b[1;33m:\u001b[0m\u001b[1;33m\u001b[0m\u001b[1;33m\u001b[0m\u001b[0m\n\u001b[1;32m-> 2840\u001b[1;33m     return gca().plot(\n\u001b[0m\u001b[0;32m   2841\u001b[0m         \u001b[1;33m*\u001b[0m\u001b[0margs\u001b[0m\u001b[1;33m,\u001b[0m \u001b[0mscalex\u001b[0m\u001b[1;33m=\u001b[0m\u001b[0mscalex\u001b[0m\u001b[1;33m,\u001b[0m \u001b[0mscaley\u001b[0m\u001b[1;33m=\u001b[0m\u001b[0mscaley\u001b[0m\u001b[1;33m,\u001b[0m\u001b[1;33m\u001b[0m\u001b[1;33m\u001b[0m\u001b[0m\n\u001b[0;32m   2842\u001b[0m         **({\"data\": data} if data is not None else {}), **kwargs)\n",
      "\u001b[1;32mC:\\Python\\lib\\site-packages\\matplotlib\\axes\\_axes.py\u001b[0m in \u001b[0;36mplot\u001b[1;34m(self, scalex, scaley, data, *args, **kwargs)\u001b[0m\n\u001b[0;32m   1741\u001b[0m         \"\"\"\n\u001b[0;32m   1742\u001b[0m         \u001b[0mkwargs\u001b[0m \u001b[1;33m=\u001b[0m \u001b[0mcbook\u001b[0m\u001b[1;33m.\u001b[0m\u001b[0mnormalize_kwargs\u001b[0m\u001b[1;33m(\u001b[0m\u001b[0mkwargs\u001b[0m\u001b[1;33m,\u001b[0m \u001b[0mmlines\u001b[0m\u001b[1;33m.\u001b[0m\u001b[0mLine2D\u001b[0m\u001b[1;33m)\u001b[0m\u001b[1;33m\u001b[0m\u001b[1;33m\u001b[0m\u001b[0m\n\u001b[1;32m-> 1743\u001b[1;33m         \u001b[0mlines\u001b[0m \u001b[1;33m=\u001b[0m \u001b[1;33m[\u001b[0m\u001b[1;33m*\u001b[0m\u001b[0mself\u001b[0m\u001b[1;33m.\u001b[0m\u001b[0m_get_lines\u001b[0m\u001b[1;33m(\u001b[0m\u001b[1;33m*\u001b[0m\u001b[0margs\u001b[0m\u001b[1;33m,\u001b[0m \u001b[0mdata\u001b[0m\u001b[1;33m=\u001b[0m\u001b[0mdata\u001b[0m\u001b[1;33m,\u001b[0m \u001b[1;33m**\u001b[0m\u001b[0mkwargs\u001b[0m\u001b[1;33m)\u001b[0m\u001b[1;33m]\u001b[0m\u001b[1;33m\u001b[0m\u001b[1;33m\u001b[0m\u001b[0m\n\u001b[0m\u001b[0;32m   1744\u001b[0m         \u001b[1;32mfor\u001b[0m \u001b[0mline\u001b[0m \u001b[1;32min\u001b[0m \u001b[0mlines\u001b[0m\u001b[1;33m:\u001b[0m\u001b[1;33m\u001b[0m\u001b[1;33m\u001b[0m\u001b[0m\n\u001b[0;32m   1745\u001b[0m             \u001b[0mself\u001b[0m\u001b[1;33m.\u001b[0m\u001b[0madd_line\u001b[0m\u001b[1;33m(\u001b[0m\u001b[0mline\u001b[0m\u001b[1;33m)\u001b[0m\u001b[1;33m\u001b[0m\u001b[1;33m\u001b[0m\u001b[0m\n",
      "\u001b[1;32mC:\\Python\\lib\\site-packages\\matplotlib\\axes\\_base.py\u001b[0m in \u001b[0;36m__call__\u001b[1;34m(self, data, *args, **kwargs)\u001b[0m\n\u001b[0;32m    271\u001b[0m                 \u001b[0mthis\u001b[0m \u001b[1;33m+=\u001b[0m \u001b[0margs\u001b[0m\u001b[1;33m[\u001b[0m\u001b[1;36m0\u001b[0m\u001b[1;33m]\u001b[0m\u001b[1;33m,\u001b[0m\u001b[1;33m\u001b[0m\u001b[1;33m\u001b[0m\u001b[0m\n\u001b[0;32m    272\u001b[0m                 \u001b[0margs\u001b[0m \u001b[1;33m=\u001b[0m \u001b[0margs\u001b[0m\u001b[1;33m[\u001b[0m\u001b[1;36m1\u001b[0m\u001b[1;33m:\u001b[0m\u001b[1;33m]\u001b[0m\u001b[1;33m\u001b[0m\u001b[1;33m\u001b[0m\u001b[0m\n\u001b[1;32m--> 273\u001b[1;33m             \u001b[1;32myield\u001b[0m \u001b[1;32mfrom\u001b[0m \u001b[0mself\u001b[0m\u001b[1;33m.\u001b[0m\u001b[0m_plot_args\u001b[0m\u001b[1;33m(\u001b[0m\u001b[0mthis\u001b[0m\u001b[1;33m,\u001b[0m \u001b[0mkwargs\u001b[0m\u001b[1;33m)\u001b[0m\u001b[1;33m\u001b[0m\u001b[1;33m\u001b[0m\u001b[0m\n\u001b[0m\u001b[0;32m    274\u001b[0m \u001b[1;33m\u001b[0m\u001b[0m\n\u001b[0;32m    275\u001b[0m     \u001b[1;32mdef\u001b[0m \u001b[0mget_next_color\u001b[0m\u001b[1;33m(\u001b[0m\u001b[0mself\u001b[0m\u001b[1;33m)\u001b[0m\u001b[1;33m:\u001b[0m\u001b[1;33m\u001b[0m\u001b[1;33m\u001b[0m\u001b[0m\n",
      "\u001b[1;32mC:\\Python\\lib\\site-packages\\matplotlib\\axes\\_base.py\u001b[0m in \u001b[0;36m_plot_args\u001b[1;34m(self, tup, kwargs)\u001b[0m\n\u001b[0;32m    397\u001b[0m \u001b[1;33m\u001b[0m\u001b[0m\n\u001b[0;32m    398\u001b[0m         \u001b[1;32mif\u001b[0m \u001b[0mx\u001b[0m\u001b[1;33m.\u001b[0m\u001b[0mshape\u001b[0m\u001b[1;33m[\u001b[0m\u001b[1;36m0\u001b[0m\u001b[1;33m]\u001b[0m \u001b[1;33m!=\u001b[0m \u001b[0my\u001b[0m\u001b[1;33m.\u001b[0m\u001b[0mshape\u001b[0m\u001b[1;33m[\u001b[0m\u001b[1;36m0\u001b[0m\u001b[1;33m]\u001b[0m\u001b[1;33m:\u001b[0m\u001b[1;33m\u001b[0m\u001b[1;33m\u001b[0m\u001b[0m\n\u001b[1;32m--> 399\u001b[1;33m             raise ValueError(f\"x and y must have same first dimension, but \"\n\u001b[0m\u001b[0;32m    400\u001b[0m                              f\"have shapes {x.shape} and {y.shape}\")\n\u001b[0;32m    401\u001b[0m         \u001b[1;32mif\u001b[0m \u001b[0mx\u001b[0m\u001b[1;33m.\u001b[0m\u001b[0mndim\u001b[0m \u001b[1;33m>\u001b[0m \u001b[1;36m2\u001b[0m \u001b[1;32mor\u001b[0m \u001b[0my\u001b[0m\u001b[1;33m.\u001b[0m\u001b[0mndim\u001b[0m \u001b[1;33m>\u001b[0m \u001b[1;36m2\u001b[0m\u001b[1;33m:\u001b[0m\u001b[1;33m\u001b[0m\u001b[1;33m\u001b[0m\u001b[0m\n",
      "\u001b[1;31mValueError\u001b[0m: x and y must have same first dimension, but have shapes (1000,) and (1000000,)"
     ]
    },
    {
     "data": {
      "image/png": "[encoded data removed]",
      "text/plain": [
       "<Figure size 432x288 with 1 Axes>"
      ]
     },
     "metadata": {
      "needs_background": "light"
     },
     "output_type": "display_data"
    }
   ],
   "source": [
    "from random import random\n",
    "NTl = 100\n",
    "NPb = 0\n",
    "NBi_fin = 0\n",
    "tau_Tl = 2.2*60\n",
    "tau_Pb = 3.3*60\n",
    "h = 1.0\n",
    "p_Tl = 1-2**(-h/tau_Tl)\n",
    "p_Pb = 1-2**(-h/tau_Pb)\n",
    "tmax = 1000\n",
    "\n",
    "tpoints = arange(0.0,tmax,h)\n",
    "Biintpoints = []\n",
    "Tlpoints = []\n",
    "Pbpoints = []\n",
    "Bifinalpoints = []\n",
    "    \n",
    "for t in tpoints:\n",
    "    Pbpoints.append(NPb)\n",
    "    Bifinalpoints.append(NBi_fin)\n",
    "    \n",
    "    decay = 0\n",
    "    for i in range(NPb):\n",
    "        if random() < p_Pb:\n",
    "            decay += 1\n",
    "            \n",
    "    NPb -= decay\n",
    "    NBi_fin += decay\n",
    "    \n",
    "    for t in tpoints:\n",
    "        Tlpoints.append(NTl)\n",
    "        Pbpoints.append(NPb)\n",
    "    \n",
    "        decay = 0\n",
    "        if i in range(NPb):\n",
    "            if random() < p_Tl:\n",
    "                decay += 1\n",
    "\n",
    "        NTl -= decay\n",
    "        NPb += decay\n",
    "\n",
    "    \n",
    "print(NTl,NPb,NBi_fin)\n",
    "\n",
    "plot(tpoints, Tlpoints, c='b')\n",
    "plot(tpoints, Pbpoints, c='m')\n",
    "plot(tpoints, Bifinalpoints, c='y')\n",
    "xlabel(\"Time\")\n",
    "ylabel(\"Number of atoms\")\n",
    "show()\n",
    "        "
   ]
  },
  {
   "cell_type": "code",
   "execution_count": 20,
   "metadata": {},
   "outputs": [
    {
     "ename": "KeyboardInterrupt",
     "evalue": "",
     "output_type": "error",
     "traceback": [
      "\u001b[1;31m---------------------------------------------------------------------------\u001b[0m",
      "\u001b[1;31mKeyboardInterrupt\u001b[0m                         Traceback (most recent call last)",
      "\u001b[1;32m<ipython-input-20-d49aace134c3>\u001b[0m in \u001b[0;36m<module>\u001b[1;34m\u001b[0m\n\u001b[0;32m      9\u001b[0m     \u001b[0mdecay\u001b[0m \u001b[1;33m=\u001b[0m \u001b[1;36m0\u001b[0m\u001b[1;33m\u001b[0m\u001b[1;33m\u001b[0m\u001b[0m\n\u001b[0;32m     10\u001b[0m     \u001b[1;32mfor\u001b[0m \u001b[0mi\u001b[0m \u001b[1;32min\u001b[0m \u001b[0mrange\u001b[0m\u001b[1;33m(\u001b[0m\u001b[0mNPb\u001b[0m\u001b[1;33m)\u001b[0m\u001b[1;33m:\u001b[0m\u001b[1;33m\u001b[0m\u001b[1;33m\u001b[0m\u001b[0m\n\u001b[1;32m---> 11\u001b[1;33m         \u001b[1;32mif\u001b[0m \u001b[0mrandom\u001b[0m\u001b[1;33m(\u001b[0m\u001b[1;33m)\u001b[0m \u001b[1;33m<\u001b[0m \u001b[0mp_Tl\u001b[0m\u001b[1;33m:\u001b[0m\u001b[1;33m\u001b[0m\u001b[1;33m\u001b[0m\u001b[0m\n\u001b[0m\u001b[0;32m     12\u001b[0m             \u001b[0mdecay\u001b[0m \u001b[1;33m+=\u001b[0m \u001b[1;36m1\u001b[0m\u001b[1;33m\u001b[0m\u001b[1;33m\u001b[0m\u001b[0m\n\u001b[0;32m     13\u001b[0m \u001b[1;33m\u001b[0m\u001b[0m\n",
      "\u001b[1;31mKeyboardInterrupt\u001b[0m: "
     ]
    }
   ],
   "source": [
    "\n",
    "\n",
    "while t in tpoints:\n",
    "    Tlpoints.append(NTl)\n",
    "    Pbpoints.append(NPb)\n",
    "    \n",
    "    decay = 0\n",
    "    for i in range(NPb):\n",
    "        if random() < p_Tl:\n",
    "            decay += 1\n",
    "            \n",
    "    NTl -= decay\n",
    "    NPb += decay\n",
    "    \n",
    "print(NTl,NPb)\n",
    "\n",
    "plot(tpoints, Tlpoints, c='b')\n",
    "plot(tpoints, Pbpoints, c='m')\n",
    "xlabel(\"Time\")\n",
    "ylabel(\"Number of atoms\")\n",
    "show()"
   ]
  },
  {
   "cell_type": "code",
   "execution_count": 72,
   "metadata": {},
   "outputs": [
    {
     "name": "stdout",
     "output_type": "stream",
     "text": [
      "Win switch % 0.649\n",
      "lose switch % 0.351\n",
      "Win no switch % 0.0\n",
      "lose no switch % 0.0\n"
     ]
    }
   ],
   "source": [
    "#monty hall game\n",
    "import random\n",
    "from random import randint\n",
    "\n",
    "def no_prize_door(host, num_doors, player_choice):\n",
    "    i = 1\n",
    "    while(i==host or i==player_choice):\n",
    "        i = (i+1)%(num_doors)\n",
    "    \n",
    "    return i\n",
    "\n",
    "def switch_door(shown_door, num_doors, player_choice):\n",
    "    i = 1\n",
    "    while(i==shown_door or i==player_choice):\n",
    "        i = (i+1)%(num_doors)\n",
    "    \n",
    "    return i\n",
    "\n",
    "def monty_hall_game(switch, num_tests):\n",
    "    \n",
    "    win_switch = 0\n",
    "    win_no_switch = 0\n",
    "    lose_switch = 0\n",
    "    lose_no_switch = 0\n",
    "    \n",
    "    doors = [0,1,2]\n",
    "    num_doors = len(doors)\n",
    "    \n",
    "    for i in range(0, num_tests):\n",
    "        door_with_prize = random.randint(0, num_doors-1)\n",
    "        host = door_with_prize\n",
    "        player_choice = random.randint(0, num_doors-1)\n",
    "        int_player_choice = player_choice\n",
    "        shown_door = no_prize_door(host, num_doors, player_choice)\n",
    "        \n",
    "        if switch == True:\n",
    "            player_choice = switch_door(shown_door, num_doors, player_choice)\n",
    "        \n",
    "        if player_choice == door_with_prize and switch == False:\n",
    "            \n",
    "            #print(\"Player wins (no switch) - The player chose door #:\", player_choice, \"Original door choice:\", int_player_choice, \"Door with prize:\", door_with_prize, \"Shown Door:\", shown_door)\n",
    "            \n",
    "            win_no_switch = win_no_switch +1\n",
    "        \n",
    "        elif player_choice == door_with_prize and switch == True:\n",
    "            \n",
    "            #print(\"Player wins (switch) - The player chose door #:\", player_choice, \"Original door choice:\", int_player_choice, \"Door with prize:\", door_with_prize, \"Shown Door:\", shown_door)\n",
    "            \n",
    "            win_switch = win_switch +1\n",
    "            \n",
    "        elif player_choice != door_with_prize and switch == False:\n",
    "            \n",
    "            #print(\"Player loses (no switch) - The player chose door #:\", player_choice, \"Original door choice:\", int_player_choice, \"Door with prize:\", door_with_prize, \"Shown Door:\", shown_door)\n",
    "            \n",
    "            lose_no_switch = lose_no_switch +1\n",
    "            \n",
    "        elif player_choice != door_with_prize and switch == True:\n",
    "            \n",
    "            #print(\"Player loses (no switch) - The player chose door #:\", player_choice, \"Original door choice:\", int_player_choice, \"Door with prize:\", door_with_prize, \"Shown Door:\", shown_door)\n",
    "            \n",
    "            lose_switch = lose_switch +1\n",
    "\n",
    "            \n",
    "    return win_no_switch, win_switch, lose_no_switch, lose_switch, num_tests\n",
    "\n",
    "x = monty_hall_game(True,1000)\n",
    "\n",
    "print('Win switch %', x[1]/x[4])\n",
    "print('lose switch %', x[3]/x[4])\n",
    "print('Win no switch %', x[0]/x[4])\n",
    "print('lose no switch %', x[2]/x[4])"
   ]
  },
  {
   "cell_type": "code",
   "execution_count": null,
   "metadata": {},
   "outputs": [],
   "source": [
    "for t in tpoints:\n",
    "    Tlpoints.append(NTl)\n",
    "    Pbpoints.append(NPb)\n",
    "    \n",
    "    decay = 0\n",
    "    for i in range(NTl):\n",
    "        if random() < p_Tl:\n",
    "            decay += 1\n",
    "    \n",
    "    NTl -= decay\n",
    "    NPb += decay\n",
    "    \n",
    "    plot(tpoints, Tlpoints, c='b')\n",
    "    \n",
    "    p_Bi = 1-2**(-h/tau_Bi)\n",
    "    tau_Bi = 46.0*60"
   ]
  },
  {
   "cell_type": "code",
   "execution_count": null,
   "metadata": {},
   "outputs": [],
   "source": []
  }
 ],
 "metadata": {
  "kernelspec": {
   "display_name": "Python 3",
   "language": "python",
   "name": "python3"
  },
  "language_info": {
   "codemirror_mode": {
    "name": "ipython",
    "version": 3
   },
   "file_extension": ".py",
   "mimetype": "text/x-python",
   "name": "python",
   "nbconvert_exporter": "python",
   "pygments_lexer": "ipython3",
   "version": "3.8.8"
  }
 },
 "nbformat": 4,
 "nbformat_minor": 4
}
